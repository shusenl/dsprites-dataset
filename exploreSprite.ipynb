{
 "cells": [
  {
   "cell_type": "code",
   "execution_count": 2,
   "metadata": {},
   "outputs": [],
   "source": [
    "import numpy as np"
   ]
  },
  {
   "cell_type": "code",
   "execution_count": 3,
   "metadata": {},
   "outputs": [],
   "source": [
    "data = np.load(\"dsprites_ndarray_co1sh3sc6or40x32y32_64x64.npz\")"
   ]
  },
  {
   "cell_type": "code",
   "execution_count": 4,
   "metadata": {},
   "outputs": [
    {
     "data": {
      "text/plain": [
       "['metadata', 'imgs', 'latents_classes', 'latents_values']"
      ]
     },
     "execution_count": 4,
     "metadata": {},
     "output_type": "execute_result"
    }
   ],
   "source": [
    "data.files"
   ]
  },
  {
   "cell_type": "code",
   "execution_count": 5,
   "metadata": {},
   "outputs": [
    {
     "data": {
      "text/plain": [
       "array([[ 0,  0,  0,  0,  0,  0],\n",
       "       [ 0,  0,  0,  0,  0,  1],\n",
       "       [ 0,  0,  0,  0,  0,  2],\n",
       "       ...,\n",
       "       [ 0,  2,  5, 39, 31, 29],\n",
       "       [ 0,  2,  5, 39, 31, 30],\n",
       "       [ 0,  2,  5, 39, 31, 31]], dtype=int64)"
      ]
     },
     "execution_count": 5,
     "metadata": {},
     "output_type": "execute_result"
    }
   ],
   "source": [
    "data[data.files[2]]"
   ]
  },
  {
   "cell_type": "code",
   "execution_count": 6,
   "metadata": {},
   "outputs": [
    {
     "data": {
      "text/plain": [
       "array([1.        , 2.        , 0.8       , 4.83321947, 0.64516129,\n",
       "       0.        ])"
      ]
     },
     "execution_count": 6,
     "metadata": {},
     "output_type": "execute_result"
    }
   ],
   "source": [
    "data[data.files[3]][400000]"
   ]
  },
  {
   "cell_type": "code",
   "execution_count": 7,
   "metadata": {},
   "outputs": [],
   "source": [
    "imgs = data[data.files[1]]"
   ]
  },
  {
   "cell_type": "code",
   "execution_count": 8,
   "metadata": {},
   "outputs": [],
   "source": [
    "atts = data[data.files[3]]"
   ]
  },
  {
   "cell_type": "code",
   "execution_count": 9,
   "metadata": {},
   "outputs": [],
   "source": [
    "# meta = data[data.files[0]]"
   ]
  },
  {
   "cell_type": "code",
   "execution_count": 57,
   "metadata": {},
   "outputs": [
    {
     "data": {
      "text/plain": [
       "(737280, 64, 64)"
      ]
     },
     "execution_count": 57,
     "metadata": {},
     "output_type": "execute_result"
    }
   ],
   "source": [
    "imgs.shape"
   ]
  },
  {
   "cell_type": "code",
   "execution_count": 11,
   "metadata": {},
   "outputs": [
    {
     "data": {
      "image/png": "[encoded data removed]",
      "text/plain": [
       "<Figure size 432x288 with 1 Axes>"
      ]
     },
     "metadata": {
      "needs_background": "light"
     },
     "output_type": "display_data"
    }
   ],
   "source": [
    "import matplotlib.pyplot as plt\n",
    "import matplotlib.image as mpimg\n",
    "imgplot = plt.imshow(imgs[400000,:,:])\n",
    "plt.show()\n",
    "\n"
   ]
  },
  {
   "cell_type": "code",
   "execution_count": 12,
   "metadata": {},
   "outputs": [],
   "source": [
    "img_0=imgs[atts[:,1]==1]"
   ]
  },
  {
   "cell_type": "code",
   "execution_count": 15,
   "metadata": {},
   "outputs": [
    {
     "data": {
      "image/png": "[encoded data removed]",
      "text/plain": [
       "<Figure size 432x288 with 1 Axes>"
      ]
     },
     "metadata": {
      "needs_background": "light"
     },
     "output_type": "display_data"
    }
   ],
   "source": [
    "img_0.shape\n",
    "import matplotlib.pyplot as plt\n",
    "import matplotlib.image as mpimg\n",
    "imgplot = plt.imshow(img_0[-1,:,:])\n",
    "plt.show()"
   ]
  },
  {
   "cell_type": "code",
   "execution_count": 47,
   "metadata": {},
   "outputs": [
    {
     "name": "stdout",
     "output_type": "stream",
     "text": [
      "(245760, 6)\n",
      "[1.  1.  0.5 0.  0.  0. ]\n",
      "[1.         1.         1.         6.28318531 1.         1.        ]\n",
      "[1.  1.  0.5 0.  0.  0. ]\n"
     ]
    }
   ],
   "source": [
    "attDist = atts[atts[:,1]==1]\n",
    "print(attDist.shape)\n",
    "print(np.min(attDist, axis=0))\n",
    "print(np.max(attDist, axis=0))\n",
    "print(attDist[0,:])"
   ]
  },
  {
   "cell_type": "code",
   "execution_count": 84,
   "metadata": {},
   "outputs": [
    {
     "data": {
      "image/png": "[encoded data removed]",
      "text/plain": [
       "<Figure size 432x288 with 1 Axes>"
      ]
     },
     "metadata": {
      "needs_background": "light"
     },
     "output_type": "display_data"
    }
   ],
   "source": [
    "plt.hist(attDist[:,2], bins=30)\n",
    "plt.show()"
   ]
  },
  {
   "cell_type": "code",
   "execution_count": 41,
   "metadata": {},
   "outputs": [],
   "source": [
    "def pdf_inv(vmin, vmax):\n",
    "    def f(x):\n",
    "        return 1.0-(x-vmin)/(vmax-vmin)\n",
    "    return f"
   ]
  },
  {
   "cell_type": "code",
   "execution_count": 148,
   "metadata": {},
   "outputs": [],
   "source": [
    "#Sample dsprite data\n",
    "import random\n",
    "def sampleBasedOnDistribution(imgs, atts, pdf, sampleCount, attIndex=2):\n",
    "    shuffleIndex = np.array(list(range(len(imgs))))\n",
    "    np.random.shuffle(shuffleIndex)\n",
    "    imgs = imgs[shuffleIndex,:]\n",
    "    atts = atts[shuffleIndex,:]\n",
    "    print(imgs.shape, atts.shape)\n",
    "    rand = np.random.uniform(size=imgs.shape[0])\n",
    "    print(rand[0])\n",
    "    print(imgs.shape, atts.shape)\n",
    "    rand = np.random.uniform(size=imgs.shape[0])\n",
    "    ind = []\n",
    "    samples = None\n",
    "    sampleAtt = None\n",
    "    count = 0\n",
    "    while count < sampleCount:\n",
    "        ind = []\n",
    "        for i, a in enumerate(atts[:,attIndex]):\n",
    "            if rand[i]<pdf(a):\n",
    "                ind.append(i)\n",
    "                count=count+1\n",
    "            if count==sampleCount:\n",
    "                break\n",
    "        np.random.shuffle(rand)\n",
    "        \n",
    "#         print(len(ind), ind)\n",
    "        if samples == None:\n",
    "            samples = imgs[ind, :]\n",
    "            sampleAtt = atts[ind, :]\n",
    "        else:\n",
    "            samples = np.stack(samples, imgs[ind,:], axis=0)\n",
    "            sampleAtt =np.stack(sampleAtt, atts[ind, :], axis=0)\n",
    "        print(samples.shape)\n",
    "        ### skip out the while loop ###\n",
    "        if count==sampleCount:\n",
    "            break        \n",
    "    return samples, sampleAtt\n"
   ]
  },
  {
   "cell_type": "code",
   "execution_count": 149,
   "metadata": {},
   "outputs": [
    {
     "name": "stdout",
     "output_type": "stream",
     "text": [
      "(737280, 64, 64) (737280, 6)\n",
      "0.11519441475961034\n",
      "(737280, 64, 64) (737280, 6)\n",
      "(1000, 64, 64)\n"
     ]
    }
   ],
   "source": [
    "posf = pdf_inv(0.0, 1.0)\n",
    "sample_0, att_0 = sampleBasedOnDistribution(imgs, atts, posf, 1000, attIndex=2)"
   ]
  },
  {
   "cell_type": "code",
   "execution_count": 152,
   "metadata": {},
   "outputs": [
    {
     "name": "stdout",
     "output_type": "stream",
     "text": [
      "(1000, 6)\n"
     ]
    },
    {
     "data": {
      "image/png": "[encoded data removed]",
      "text/plain": [
       "<Figure size 432x288 with 1 Axes>"
      ]
     },
     "metadata": {
      "needs_background": "light"
     },
     "output_type": "display_data"
    }
   ],
   "source": [
    "print(att_0.shape)\n",
    "plt.hist(att_0[:,2], bins=5)\n",
    "plt.show()"
   ]
  },
  {
   "cell_type": "code",
   "execution_count": 151,
   "metadata": {},
   "outputs": [
    {
     "data": {
      "image/png": "[encoded data removed]",
      "text/plain": [
       "<Figure size 432x288 with 1 Axes>"
      ]
     },
     "metadata": {
      "needs_background": "light"
     },
     "output_type": "display_data"
    }
   ],
   "source": [
    "plt.hist(atts[:,2], bins=10)\n",
    "plt.show()"
   ]
  },
  {
   "cell_type": "code",
   "execution_count": null,
   "metadata": {},
   "outputs": [],
   "source": []
  }
 ],
 "metadata": {
  "kernelspec": {
   "display_name": "Python 3",
   "language": "python",
   "name": "python3"
  },
  "language_info": {
   "codemirror_mode": {
    "name": "ipython",
    "version": 3
   },
   "file_extension": ".py",
   "mimetype": "text/x-python",
   "name": "python",
   "nbconvert_exporter": "python",
   "pygments_lexer": "ipython3",
   "version": "3.7.4"
  }
 },
 "nbformat": 4,
 "nbformat_minor": 4
}
